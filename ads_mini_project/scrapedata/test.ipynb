{
 "cells": [
  {
   "cell_type": "code",
   "execution_count": 3,
   "metadata": {},
   "outputs": [
    {
     "data": {
      "text/plain": [
       "array(['Apple iPhone 15 Plus', 'Apple iPhone 15 Pro', 'Apple iPhone 15',\n",
       "       'Apple iPhone 15 Pro Max', 'Samsung Galaxy S23+',\n",
       "       'Samsung Galaxy S23 FE', 'Samsung Galaxy S23',\n",
       "       'Samsung Galaxy S23 Ultra'], dtype=object)"
      ]
     },
     "execution_count": 3,
     "metadata": {},
     "output_type": "execute_result"
    }
   ],
   "source": [
    "import pandas as pd\n",
    "\n",
    "#read xlsx file\n",
    "df = pd.read_excel('master.xlsx')\n",
    "\n",
    "#get each unique value of PDName\n",
    "df['PDName'].unique()"
   ]
  },
  {
   "cell_type": "code",
   "execution_count": 6,
   "metadata": {},
   "outputs": [
    {
     "data": {
      "text/plain": [
       "array(['Apple iPhone 15 Plus', 'Samsung Galaxy S23 FE'], dtype=object)"
      ]
     },
     "execution_count": 6,
     "metadata": {},
     "output_type": "execute_result"
    }
   ],
   "source": [
    "#create a new dataframe with only the rows that have the PDName of 'Apple iPhone 15 Plus' or 'Samsung Galaxy S23 FE'\n",
    "df2 = df[(df['PDName'] == 'Apple iPhone 15 Plus') | (df['PDName'] == 'Samsung Galaxy S23 FE')]\n",
    "df2['PDName'].unique()\n"
   ]
  },
  {
   "cell_type": "code",
   "execution_count": null,
   "metadata": {},
   "outputs": [],
   "source": []
  }
 ],
 "metadata": {
  "kernelspec": {
   "display_name": "ads_django",
   "language": "python",
   "name": "python3"
  },
  "language_info": {
   "codemirror_mode": {
    "name": "ipython",
    "version": 3
   },
   "file_extension": ".py",
   "mimetype": "text/x-python",
   "name": "python",
   "nbconvert_exporter": "python",
   "pygments_lexer": "ipython3",
   "version": "3.9.18"
  },
  "orig_nbformat": 4
 },
 "nbformat": 4,
 "nbformat_minor": 2
}
