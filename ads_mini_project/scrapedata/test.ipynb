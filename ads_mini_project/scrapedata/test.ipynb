{
 "cells": [
  {
   "cell_type": "code",
   "execution_count": 1,
   "metadata": {},
   "outputs": [
    {
     "name": "stderr",
     "output_type": "stream",
     "text": [
      "C:\\Users\\Raymond_diong_tien_W\\AppData\\Local\\Temp\\ipykernel_14680\\1113295680.py:1: DeprecationWarning: \n",
      "Pyarrow will become a required dependency of pandas in the next major release of pandas (pandas 3.0),\n",
      "(to allow more performant data types, such as the Arrow string type, and better interoperability with other libraries)\n",
      "but was not found to be installed on your system.\n",
      "If this would cause problems for you,\n",
      "please provide us feedback at https://github.com/pandas-dev/pandas/issues/54466\n",
      "        \n",
      "  import pandas as pd\n"
     ]
    },
    {
     "data": {
      "text/plain": [
       "array(['Samsung Galaxy S23+', 'Samsung Galaxy S23 FE',\n",
       "       'Samsung Galaxy S23', 'Samsung Galaxy S23 Ultra',\n",
       "       'Samsung Galaxy S22+ 5G', 'Samsung Galaxy S22 5G',\n",
       "       'Samsung Galaxy S22 Ultra 5G'], dtype=object)"
      ]
     },
     "execution_count": 1,
     "metadata": {},
     "output_type": "execute_result"
    }
   ],
   "source": [
    "import pandas as pd\n",
    "\n",
    "#read xlsx file\n",
    "df = pd.read_excel('master.xlsx')\n",
    "\n",
    "#get each unique value of PDName\n",
    "df['PDName'].unique()"
   ]
  },
  {
   "cell_type": "code",
   "execution_count": 6,
   "metadata": {},
   "outputs": [
    {
     "data": {
      "text/plain": [
       "array(['Apple iPhone 15 Plus', 'Samsung Galaxy S23 FE'], dtype=object)"
      ]
     },
     "execution_count": 6,
     "metadata": {},
     "output_type": "execute_result"
    }
   ],
   "source": [
    "#create a new dataframe with only the rows that have the PDName of 'Apple iPhone 15 Plus' or 'Samsung Galaxy S23 FE'\n",
    "df2 = df[(df['PDName'] == 'Apple iPhone 15 Plus') | (df['PDName'] == 'Samsung Galaxy S23 FE')]\n",
    "df2['PDName'].unique()\n"
   ]
  },
  {
   "cell_type": "code",
   "execution_count": 8,
   "metadata": {},
   "outputs": [
    {
     "data": {
      "text/plain": [
       "22810    0.321429\n",
       "22812    0.241667\n",
       "22815    0.166667\n",
       "22816    0.200000\n",
       "22817    0.083333\n",
       "           ...   \n",
       "86003    0.100000\n",
       "86004    0.184343\n",
       "86005    0.100000\n",
       "86007    0.200000\n",
       "86009    0.152273\n",
       "Name: polarity, Length: 5092, dtype: float64"
      ]
     },
     "execution_count": 8,
     "metadata": {},
     "output_type": "execute_result"
    }
   ],
   "source": [
    "test = df[(df['PDName'] ==f'Samsung Galaxy S22 5G') & df['polarity']]['polarity']\n",
    "\n",
    "#show only those polarity values that are greater than 0\n",
    "test[test>0]"
   ]
  },
  {
   "cell_type": "code",
   "execution_count": null,
   "metadata": {},
   "outputs": [],
   "source": []
  }
 ],
 "metadata": {
  "kernelspec": {
   "display_name": "ads_django",
   "language": "python",
   "name": "python3"
  },
  "language_info": {
   "codemirror_mode": {
    "name": "ipython",
    "version": 3
   },
   "file_extension": ".py",
   "mimetype": "text/x-python",
   "name": "python",
   "nbconvert_exporter": "python",
   "pygments_lexer": "ipython3",
   "version": "3.9.18"
  },
  "orig_nbformat": 4
 },
 "nbformat": 4,
 "nbformat_minor": 2
}
